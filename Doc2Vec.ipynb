{
 "cells": [
  {
   "cell_type": "markdown",
   "id": "74f096d7-10e2-46cf-8585-f26f401ba090",
   "metadata": {},
   "source": [
    "# 1. Doc2Vec als Speziellkategorie von Skills2Vec"
   ]
  },
  {
   "cell_type": "code",
   "execution_count": 1,
   "id": "bddd8232-3bb0-4279-aa58-8c99b3d1b977",
   "metadata": {},
   "outputs": [
    {
     "name": "stdout",
     "output_type": "stream",
     "text": [
      "Requirement already satisfied: gensim in c:\\users\\nguye\\anaconda3\\lib\\site-packages (4.3.1)\n",
      "Requirement already satisfied: numpy>=1.18.5 in c:\\users\\nguye\\anaconda3\\lib\\site-packages (from gensim) (1.24.3)\n",
      "Requirement already satisfied: scipy>=1.7.0 in c:\\users\\nguye\\anaconda3\\lib\\site-packages (from gensim) (1.7.1)\n",
      "Requirement already satisfied: smart-open>=1.8.1 in c:\\users\\nguye\\anaconda3\\lib\\site-packages (from gensim) (6.3.0)\n",
      "Collecting numpy>=1.18.5 (from gensim)\n",
      "  Using cached numpy-1.22.4-cp39-cp39-win_amd64.whl (14.7 MB)\n",
      "Installing collected packages: numpy\n",
      "  Attempting uninstall: numpy\n",
      "    Found existing installation: numpy 1.24.3\n",
      "    Uninstalling numpy-1.24.3:\n",
      "      Successfully uninstalled numpy-1.24.3\n",
      "Successfully installed numpy-1.22.4\n",
      "Note: you may need to restart the kernel to use updated packages.\n"
     ]
    }
   ],
   "source": [
    "pip install gensim"
   ]
  },
  {
   "cell_type": "code",
   "execution_count": 2,
   "id": "40098027-2663-43a4-965d-93fba60db100",
   "metadata": {},
   "outputs": [
    {
     "name": "stdout",
     "output_type": "stream",
     "text": [
      "Collecting numpy\n",
      "  Using cached numpy-1.24.3-cp39-cp39-win_amd64.whl (14.9 MB)\n",
      "Installing collected packages: numpy\n",
      "  Attempting uninstall: numpy\n",
      "    Found existing installation: numpy 1.22.4\n",
      "    Uninstalling numpy-1.22.4:\n",
      "      Successfully uninstalled numpy-1.22.4\n",
      "Successfully installed numpy-1.24.3Note: you may need to restart the kernel to use updated packages.\n"
     ]
    },
    {
     "name": "stderr",
     "output_type": "stream",
     "text": [
      "ERROR: pip's dependency resolver does not currently take into account all the packages that are installed. This behaviour is the source of the following dependency conflicts.\n",
      "scipy 1.7.1 requires numpy<1.23.0,>=1.16.5, but you have numpy 1.24.3 which is incompatible.\n"
     ]
    },
    {
     "name": "stdout",
     "output_type": "stream",
     "text": [
      "\n"
     ]
    }
   ],
   "source": [
    "pip install --upgrade --force-reinstall numpy"
   ]
  },
  {
   "cell_type": "code",
   "execution_count": null,
   "id": "2f46d7a0-4fe5-40ed-9148-f11620646145",
   "metadata": {},
   "outputs": [],
   "source": []
  },
  {
   "cell_type": "code",
   "execution_count": 7,
   "id": "328836ca-2048-4a5a-bc28-bd5a02e16573",
   "metadata": {},
   "outputs": [
    {
     "name": "stdout",
     "output_type": "stream",
     "text": [
      "Given skills: ['communication', 'creativity']\n",
      "Most suitable jobs:\n",
      "- Graphic Designer (Similarity: 0.14)\n",
      "- Psychologist (Similarity: 0.11)\n",
      "- Designer (Similarity: 0.10)\n"
     ]
    }
   ],
   "source": [
    "from gensim.models import Doc2Vec\n",
    "from gensim.models.doc2vec import TaggedDocument\n",
    "\n",
    "# Assuming you have a list of job titles and corresponding skills\n",
    "data = [\n",
    "    #(\"Teacher\", [\"communication\", \"empathy\", \"solution-oriented\"]),\n",
    "    #(\"Engineer\", [\"problem-solving\", \"analytical\", \"technical\"]),\n",
    "    #(\"Designer\", [\"creativity\", \"visualization\", \"attention to detail\"]),\n",
    "    # Add more job titles and skills here\n",
    "    (\"Teacher\", [\"communication\", \"empathy\", \"solution-oriented\"]),\n",
    "    (\"Engineer\", [\"problem-solving\", \"analytical\", \"technical\"]),\n",
    "    (\"Designer\", [\"creativity\", \"visualization\", \"attention to detail\"]),\n",
    "    (\"Doctor\", [\"medical knowledge\", \"critical thinking\", \"empathy\"]),\n",
    "    (\"Software Developer\", [\"programming\", \"algorithm design\", \"debugging\"]),\n",
    "    (\"Marketing Manager\", [\"strategic planning\", \"market analysis\", \"communication\"]),\n",
    "    (\"Sales Representative\", [\"negotiation\", \"relationship building\", \"persuasion\"]),\n",
    "    (\"Accountant\", [\"financial analysis\", \"attention to detail\", \"mathematical skills\"]),\n",
    "    (\"Writer\", [\"creativity\", \"grammar\", \"research\"]),\n",
    "    (\"Chef\", [\"culinary skills\", \"time management\", \"creativity\"]),\n",
    "    (\"Nurse\", [\"compassion\", \"patient care\", \"medical expertise\"]),\n",
    "    (\"Architect\", [\"design\", \"technical drawing\", \"project management\"]),\n",
    "    (\"Lawyer\", [\"legal knowledge\", \"research\", \"analytical thinking\"]),\n",
    "    (\"Data Scientist\", [\"data analysis\", \"machine learning\", \"statistical modeling\"]),\n",
    "    (\"Graphic Designer\", [\"graphic design software\", \"typography\", \"visual communication\"]),\n",
    "    (\"Human Resources Manager\", [\"employee relations\", \"recruitment\", \"conflict resolution\"]),\n",
    "    (\"Financial Analyst\", [\"financial modeling\", \"risk assessment\", \"data interpretation\"]),\n",
    "    (\"Photographer\", [\"composition\", \"lighting techniques\", \"image editing\"]),\n",
    "    (\"Project Manager\", [\"leadership\", \"organizational skills\", \"risk management\"]),\n",
    "    (\"Consultant\", [\"problem-solving\", \"communication\", \"client management\"]),\n",
    "    (\"Electrician\", [\"electrical systems\", \"troubleshooting\", \"safety procedures\"]),\n",
    "    (\"Psychologist\", [\"counseling\", \"psychological assessment\", \"research skills\"]),\n",
    "    (\"Web Developer\", [\"HTML\", \"CSS\", \"JavaScript\"]),\n",
    "    (\"Mechanical Engineer\", [\"mechanical design\", \"CAD software\", \"prototyping\"]),\n",
    "    (\"Research Scientist\", [\"experiment design\", \"data analysis\", \"scientific knowledge\"]),\n",
    "    (\"Social Media Manager\", [\"content creation\", \"analytics\", \"social media platforms\"]),\n",
    "    (\"Financial Advisor\", [\"investment strategies\", \"financial planning\", \"customer service\"]),\n",
    "    (\"Artist\", [\"creativity\", \"visual expression\", \"artistic techniques\"]),\n",
    "]\n",
    "\n",
    "# Preprocess the data and create TaggedDocuments\n",
    "tagged_data = [TaggedDocument(words=skills, tags=[job]) for job, skills in data]\n",
    "\n",
    "# Train the Doc2Vec model\n",
    "model = Doc2Vec(vector_size=100, window=5, min_count=1, workers=4, epochs=20)\n",
    "model.build_vocab(tagged_data)\n",
    "model.train(tagged_data, total_examples=model.corpus_count, epochs=model.epochs)\n",
    "\n",
    "# Test the model\n",
    "skills = [\"communication\", \"creativity\"]\n",
    "#skills = [\"communication\"]\n",
    "\n",
    "infer_vector = model.infer_vector(skills)\n",
    "similar_jobs = model.dv.most_similar([infer_vector], topn=3)\n",
    "\n",
    "print(f\"Given skills: {skills}\")\n",
    "print(\"Most suitable jobs:\")\n",
    "for job, similarity in similar_jobs:\n",
    "    print(f\"- {job} (Similarity: {similarity:.2f})\")\n"
   ]
  },
  {
   "cell_type": "code",
   "execution_count": 2,
   "id": "b16f6e9a-bb78-436b-89f8-366851c4aaf0",
   "metadata": {},
   "outputs": [
    {
     "data": {
      "text/plain": [
       "'\\n\\nThe output indicates the most suitable jobs based on the given skills of \"communication\" and \"creativity\". Each job is followed by a similarity score, which indicates how similar the job is to the given skills.\\n\\nDesigner (Similarity: 0.14): The job of a Designer has the highest similarity score of 0.14, indicating that it is the most suitable job based on the given skills. The positive similarity score suggests a higher relevance between the skills of communication and creativity and the job of a Designer.\\nTeacher (Similarity: -0.03): The job of a Teacher has a similarity score of -0.03, which is lower than the Designer. The negative similarity score suggests a lower relevance between the skills and the job.\\n\\nBased on these similarity scores, the model suggests that the job of a Designer is the most suitable match for the given skills of communication and creativity. However, it\\'s important to note that the scores are relative, and the actual interpretation of \"suitability\" may depend on the specific context and criteria used in the model.\\n'"
      ]
     },
     "execution_count": 2,
     "metadata": {},
     "output_type": "execute_result"
    }
   ],
   "source": [
    "# Interpretation\n",
    "\n",
    "'''\n",
    "\n",
    "The output indicates the most suitable jobs based on the given skills of \"communication\" and \"creativity\". Each job is followed by a similarity score, which indicates how similar the job is to the given skills.\n",
    "\n",
    "Designer (Similarity: 0.14): The job of a Designer has the highest similarity score of 0.14, indicating that it is the most suitable job based on the given skills. The positive similarity score suggests a higher relevance between the skills of communication and creativity and the job of a Designer.\n",
    "Teacher (Similarity: -0.03): The job of a Teacher has a similarity score of -0.03, which is lower than the Designer. The negative similarity score suggests a lower relevance between the skills and the job.\n",
    "\n",
    "Based on these similarity scores, the model suggests that the job of a Designer is the most suitable match for the given skills of communication and creativity. However, it's important to note that the scores are relative, and the actual interpretation of \"suitability\" may depend on the specific context and criteria used in the model.\n",
    "'''"
   ]
  },
  {
   "cell_type": "code",
   "execution_count": 8,
   "id": "5ef591a1-0d98-4da9-9c8a-4e7c6e68dcf3",
   "metadata": {},
   "outputs": [],
   "source": [
    "# model.wv.vocab"
   ]
  },
  {
   "cell_type": "markdown",
   "id": "fad269a1-b917-4af6-b855-b625d00c1764",
   "metadata": {},
   "source": [
    "# 2 Explanation of code above"
   ]
  },
  {
   "cell_type": "code",
   "execution_count": 14,
   "id": "af114b38-fc42-4537-b9dd-b036fb856e52",
   "metadata": {},
   "outputs": [
    {
     "data": {
      "text/plain": [
       "'\\nThese statements import the Doc2Vec class from the gensim.models module \\nand the TaggedDocument class from the gensim.models.doc2vec module. \\nThese classes are needed for training and using the Doc2Vec model. \\n'"
      ]
     },
     "execution_count": 14,
     "metadata": {},
     "output_type": "execute_result"
    }
   ],
   "source": [
    "## 1. Importing the necessary libraries:\n",
    "\n",
    "# from gensim.models import Doc2Vec\n",
    "# from gensim.models.doc2vec import TaggedDocument\n",
    "\n",
    "\"\"\"\n",
    "These statements import the Doc2Vec class from the gensim.models module \n",
    "and the TaggedDocument class from the gensim.models.doc2vec module. \n",
    "These classes are needed for training and using the Doc2Vec model. \n",
    "\"\"\"\n"
   ]
  },
  {
   "cell_type": "code",
   "execution_count": null,
   "id": "73bb4611-258f-4677-8a7f-875f55ddef4b",
   "metadata": {},
   "outputs": [],
   "source": [
    "## 2. Defining the data:\n",
    "\n",
    "# data = [\n",
    "#     (\"Teacher\", [\"communication\", \"empathy\", \"solution-oriented\"]),\n",
    "#     (\"Engineer\", [\"problem-solving\", \"analytical\", \"technical\"]),\n",
    "#     (\"Designer\", [\"creativity\", \"visualization\", \"attention to detail\"]),\n",
    "#     # Add more job titles and skills here\n",
    "# ]\n",
    "\n",
    "\"\"\"\n",
    "-> Max will provide a full data set\n",
    "\"\"\""
   ]
  },
  {
   "cell_type": "code",
   "execution_count": 15,
   "id": "f01bb76c-037e-476b-be33-8591222bd8b9",
   "metadata": {},
   "outputs": [
    {
     "data": {
      "text/plain": [
       "'\\n-> This line creates a list of TaggedDocument objects from the job titles and skills in the data list. Each TaggedDocument contains the words attribute, which represents the skills, and the tags attribute, which represents the job title.\\n\\n\\n'"
      ]
     },
     "execution_count": 15,
     "metadata": {},
     "output_type": "execute_result"
    }
   ],
   "source": [
    "## 3. Preprocessing the data and creating TaggedDocuments:\n",
    "\n",
    "# tagged_data = [TaggedDocument(words=skills, tags=[job]) for job, skills in data]\n",
    "\n",
    "\n",
    "\"\"\"\n",
    "-> This line creates a list of TaggedDocument objects from the job titles and skills \n",
    "in the data list. Each TaggedDocument contains the words attribute, \n",
    "which represents the skills, and the tags attribute, which represents the job title.\n",
    "\n",
    "\"\"\""
   ]
  },
  {
   "cell_type": "code",
   "execution_count": null,
   "id": "be6cdf5d-ed5b-43b2-945b-383f4421b2b6",
   "metadata": {},
   "outputs": [],
   "source": [
    "# 4. Building and training the Doc2Vec model:\n",
    "\n",
    "\n",
    "# model = Doc2Vec(vector_size=100, window=5, min_count=1, workers=4, epochs=20)\n",
    "# model.build_vocab(tagged_data)\n",
    "# model.train(tagged_data, total_examples=model.corpus_count, epochs=model.epochs)\n",
    "\n",
    "\"\"\"\n",
    "Here, the Doc2Vec model is initialized with specific parameters:\n",
    " -vector_size: The dimensionality of the feature vectors.\n",
    " -window: The maximum distance between the predicted word and the context words.\n",
    " -min_count: The minimum count of words to consider during training.\n",
    " -workers: The number of worker threads to use during training.\n",
    " -epochs: The number of iterations (epochs) to train the model.\n",
    " -The model is then built and trained using the build_vocab() and train() methods, respectively. The build_vocab() method initializes the vocabulary from the provided tagged_data, and the train() method trains the model on the tagged_data.\n",
    "\"\"\""
   ]
  },
  {
   "cell_type": "code",
   "execution_count": null,
   "id": "175ad77b-4f27-4131-aa9f-0522b1cf6280",
   "metadata": {},
   "outputs": [],
   "source": [
    "# 5. Testing the model:\n",
    "\n",
    "# skills = [\"communication\", \"creativity\"]\n",
    "# infer_vector = model.infer_vector(skills)\n",
    "# similar_jobs = model.dv.most_similar([infer_vector], topn=3)\n",
    "\n",
    "\"\"\"\n",
    "In this part, a list of skills is defined (skills). \n",
    "The infer_vector() method is used to infer a vector representation for the given skills using the trained model. \n",
    "This vector representation captures the semantic meaning of the skills.\n",
    "\n",
    "The most_similar() method of the model.dv (document vectors) is then called to find the most similar job titles \n",
    "to the inferred vector. The topn parameter specifies the number of similar jobs to retrieve.\n",
    "\"\"\""
   ]
  },
  {
   "cell_type": "code",
   "execution_count": 16,
   "id": "695c0457-9e97-485c-b125-1d0a80e6b7e6",
   "metadata": {},
   "outputs": [
    {
     "data": {
      "text/plain": [
       "'\\nFinally, the given skills are printed, followed by the most suitable job titles \\nand their similarity scores. The similarity scores indicate how similar each job title is to the given skills, \\nwith higher\\n'"
      ]
     },
     "execution_count": 16,
     "metadata": {},
     "output_type": "execute_result"
    }
   ],
   "source": [
    "# 6. Printing the results:\n",
    "\n",
    "# print(f\"Given skills: {skills}\")\n",
    "# print(\"Most suitable jobs:\")\n",
    "# for job, similarity in similar_jobs:\n",
    "#     print(f\"- {job} (Similarity: {similarity:.2f})\")\n",
    "\n",
    "\"\"\"\n",
    "Finally, the given skills are printed, followed by the most suitable job titles \n",
    "and their similarity scores. The similarity scores indicate how similar each job title is to the given skills, \n",
    "with higher\n",
    "\"\"\"\n"
   ]
  },
  {
   "cell_type": "markdown",
   "id": "f5365e94-94ca-4533-9d8f-ebf32b703c5b",
   "metadata": {},
   "source": [
    "# 3 Weitere Tests zum Ausprobieren"
   ]
  },
  {
   "cell_type": "code",
   "execution_count": null,
   "id": "e5db0488-11a9-49fe-9b7c-94227a7727e7",
   "metadata": {},
   "outputs": [],
   "source": [
    "# from gensim.models import Word2Vec\n",
    "\n",
    "# # Assuming you have a list of job descriptions or skill-related information\n",
    "# job_descriptions = [\n",
    "#     \"Software Engineer with expertise in Python and machine learning\",\n",
    "#     \"Data Analyst proficient in SQL and data visualization\",\n",
    "#     \"Web Developer skilled in HTML, CSS, and JavaScript\",\n",
    "#     # Add more job descriptions...\n",
    "# ]\n",
    "\n",
    "# # Preprocess the job descriptions (tokenization, lowercasing, etc.)\n",
    "# preprocessed_job_descriptions = [job.lower().split() for job in job_descriptions]\n",
    "\n",
    "# # Train the Skill2Vec model\n",
    "# skill2vec_model = Word2Vec(preprocessed_job_descriptions, sg=1, window=5, min_count=1)\n",
    "\n",
    "# # Save the trained model\n",
    "# skill2vec_model.save(\"path_to_save_skill2vec_model\")\n"
   ]
  },
  {
   "cell_type": "code",
   "execution_count": 10,
   "id": "65ab1308-e5c4-4f69-b114-9d0d107b2e19",
   "metadata": {},
   "outputs": [],
   "source": [
    "# In this code, we assume that you have already trained a Skill2Vec model using the gensim library\n",
    "# You would replace \"path_to_skill2vec_model\" with the actual path to your pre-trained model file\n",
    "\n",
    "# The find_best_job_title function takes a list of skills as input and iterates over all the available job titles in the Skill2Vec model\n",
    "# For each job title, it computes the similarity between the job title's vector and the vectors of the input skills\n",
    "\n",
    "# The similarity is calculated as the dot product between the skill vectors and the job title vector.\n",
    "# The function keeps track of the job title with the highest similarity and returns it as the best match.\n",
    "\n"
   ]
  },
  {
   "cell_type": "code",
   "execution_count": 25,
   "id": "13b31c35-8bae-40a3-87a5-6c94732b05e7",
   "metadata": {},
   "outputs": [],
   "source": [
    "# from gensim.models import Word2Vec\n",
    "\n",
    "# # Assuming you have a pre-trained Skill2Vec model\n",
    "# skill2vec_model = Word2Vec.load(\"path_to_skill2vec_model\")\n",
    "\n",
    "# def find_best_job_title(skills):\n",
    "#     job_titles = skill2vec_model.wv.vocab.keys()\n",
    "#     skill_vectors = [skill2vec_model.wv[skill] for skill in skills]\n",
    "\n",
    "#     best_job_title = None\n",
    "#     best_similarity = -1\n",
    "\n",
    "#     for job_title in job_titles:\n",
    "#         job_vector = skill2vec_model.wv[job_title]\n",
    "#         similarity = sum(skill_vector.dot(job_vector) for skill_vector in skill_vectors)\n",
    "        \n",
    "#         if similarity > best_similarity:\n",
    "#             best_similarity = similarity\n",
    "#             best_job_title = job_title\n",
    "    \n",
    "#     return best_job_title\n",
    "\n",
    "# # Example usage\n",
    "# skills = [\"python\", \"machine_learning\", \"data_analysis\"]\n",
    "# best_job = find_best_job_title(skills)\n",
    "# print(\"Best job title:\", best_job)\n"
   ]
  },
  {
   "cell_type": "code",
   "execution_count": null,
   "id": "d11a6ead-8519-4bd5-89f0-d05b0ec21d4b",
   "metadata": {},
   "outputs": [],
   "source": []
  }
 ],
 "metadata": {
  "kernelspec": {
   "display_name": "Python 3 (ipykernel)",
   "language": "python",
   "name": "python3"
  },
  "language_info": {
   "codemirror_mode": {
    "name": "ipython",
    "version": 3
   },
   "file_extension": ".py",
   "mimetype": "text/x-python",
   "name": "python",
   "nbconvert_exporter": "python",
   "pygments_lexer": "ipython3",
   "version": "3.9.7"
  }
 },
 "nbformat": 4,
 "nbformat_minor": 5
}
