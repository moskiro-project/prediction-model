{
 "cells": [
  {
   "cell_type": "code",
   "execution_count": 2,
   "metadata": {
    "pycharm": {
     "name": "#%%\n"
    }
   },
   "outputs": [],
   "source": [
    "import pandas as pd\n",
    "import numpy as np\n",
    "import matplotlib.pyplot as plt\n",
    "\n",
    "df = pd.read_csv(\"naukri_data_science_jobs_india_cleaned_clusterd.csv\", converters={\"Skills/Description\":pd.eval},index_col=0)"
   ]
  },
  {
   "cell_type": "code",
   "execution_count": 3,
   "metadata": {
    "pycharm": {
     "name": "#%%\n"
    }
   },
   "outputs": [],
   "source": [
    "def get_topic_distribution(df, topics_list= None):\n",
    "    if topics_list is None:\n",
    "        topics_list = df[\"lda_topic\"].unique()\n",
    "    num_topics = df[\"lda_topic\"].nunique()\n",
    "    values = df[\"lda_topic\"].value_counts()\n",
    "    labels = values.index.tolist()\n",
    "\n",
    "    x = np.arange(0,8,1)\n",
    "    fig, ax = plt.subplots()\n",
    "    bar = ax.bar(x,(values.to_numpy()/len(df))* 100,align= \"center\")\n",
    "    ax.set_xticks(x,labels)\n",
    "    ax.set_ylabel(\"Precentage\")\n",
    "    ax.bar_label(bar, labels= [\"%.1f\" % value for value in values.to_list()], fmt=\"%.1f\")\n",
    "    fig.show()"
   ]
  },
  {
   "cell_type": "code",
   "execution_count": 193,
   "metadata": {
    "pycharm": {
     "name": "#%%\n"
    }
   },
   "outputs": [
    {
     "name": "stderr",
     "output_type": "stream",
     "text": [
      "C:\\Users\\rfroe\\AppData\\Local\\Temp\\ipykernel_22080\\1745156556.py:14: UserWarning: Matplotlib is currently using module://matplotlib_inline.backend_inline, which is a non-GUI backend, so cannot show the figure.\n",
      "  fig.show()\n"
     ]
    },
    {
     "data": {
      "image/png": "[encoded data removed]",
      "text/plain": [
       "<Figure size 432x288 with 1 Axes>"
      ]
     },
     "metadata": {
      "needs_background": "light"
     },
     "output_type": "display_data"
    }
   ],
   "source": [
    "get_topic_distribution(df)"
   ]
  },
  {
   "cell_type": "markdown",
   "metadata": {
    "pycharm": {
     "name": "#%% md\n"
    }
   },
   "source": [
    "## Genereal Job Roles"
   ]
  },
  {
   "cell_type": "code",
   "execution_count": 194,
   "metadata": {
    "pycharm": {
     "name": "#%%\n"
    }
   },
   "outputs": [
    {
     "name": "stdout",
     "output_type": "stream",
     "text": [
      "811\n"
     ]
    },
    {
     "name": "stderr",
     "output_type": "stream",
     "text": [
      "C:\\Users\\rfroe\\AppData\\Local\\Temp\\ipykernel_22080\\1194076342.py:2: UserWarning: This pattern is interpreted as a regular expression, and has match groups. To actually get the groups, use str.extract.\n",
      "  mask =  ~ tmp[\"Job_Role\"].str.contains(r'(?i)engi(nee?r|nner)|engg')\n"
     ]
    },
    {
     "data": {
      "text/html": [
       "<div>\n",
       "<style scoped>\n",
       "    .dataframe tbody tr th:only-of-type {\n",
       "        vertical-align: middle;\n",
       "    }\n",
       "\n",
       "    .dataframe tbody tr th {\n",
       "        vertical-align: top;\n",
       "    }\n",
       "\n",
       "    .dataframe thead th {\n",
       "        text-align: right;\n",
       "    }\n",
       "</style>\n",
       "<table border=\"1\" class=\"dataframe\">\n",
       "  <thead>\n",
       "    <tr style=\"text-align: right;\">\n",
       "      <th></th>\n",
       "      <th>Job_Role</th>\n",
       "      <th>Skills/Description</th>\n",
       "      <th>lda_topic</th>\n",
       "      <th>lda_score</th>\n",
       "    </tr>\n",
       "  </thead>\n",
       "  <tbody>\n",
       "    <tr>\n",
       "      <th>2060</th>\n",
       "      <td>Program Manager, Global Server Data, Enterpris...</td>\n",
       "      <td>[management, informatica, sap, it_skills, supp...</td>\n",
       "      <td>5</td>\n",
       "      <td>0.494969</td>\n",
       "    </tr>\n",
       "    <tr>\n",
       "      <th>2245</th>\n",
       "      <td>Sr. Spec, Data Mgmt Engr</td>\n",
       "      <td>[computer_science, translation, data_modeling,...</td>\n",
       "      <td>2</td>\n",
       "      <td>0.423467</td>\n",
       "    </tr>\n",
       "    <tr>\n",
       "      <th>2425</th>\n",
       "      <td>Associate Consultant - Data Visualization</td>\n",
       "      <td>[computer_science, front_end, data_modeling, a...</td>\n",
       "      <td>4</td>\n",
       "      <td>0.516159</td>\n",
       "    </tr>\n",
       "    <tr>\n",
       "      <th>2596</th>\n",
       "      <td>Snowflake Data Warehouse Application Lead</td>\n",
       "      <td>[e-learning, metadata, consulting, data_struct...</td>\n",
       "      <td>2</td>\n",
       "      <td>0.663351</td>\n",
       "    </tr>\n",
       "    <tr>\n",
       "      <th>2612</th>\n",
       "      <td>Senior Manager Data and AI Delivery</td>\n",
       "      <td>[supply_chain, computer_science, cloud_computi...</td>\n",
       "      <td>2</td>\n",
       "      <td>0.483579</td>\n",
       "    </tr>\n",
       "  </tbody>\n",
       "</table>\n",
       "</div>"
      ],
      "text/plain": [
       "                                               Job_Role  \\\n",
       "2060  Program Manager, Global Server Data, Enterpris...   \n",
       "2245                           Sr. Spec, Data Mgmt Engr   \n",
       "2425          Associate Consultant - Data Visualization   \n",
       "2596          Snowflake Data Warehouse Application Lead   \n",
       "2612                Senior Manager Data and AI Delivery   \n",
       "\n",
       "                                     Skills/Description  lda_topic  lda_score  \n",
       "2060  [management, informatica, sap, it_skills, supp...          5   0.494969  \n",
       "2245  [computer_science, translation, data_modeling,...          2   0.423467  \n",
       "2425  [computer_science, front_end, data_modeling, a...          4   0.516159  \n",
       "2596  [e-learning, metadata, consulting, data_struct...          2   0.663351  \n",
       "2612  [supply_chain, computer_science, cloud_computi...          2   0.483579  "
      ]
     },
     "execution_count": 194,
     "metadata": {},
     "output_type": "execute_result"
    }
   ],
   "source": [
    "tmp = df.drop_duplicates(subset=[\"Job_Role\"])\n",
    "mask =  ~ tmp[\"Job_Role\"].str.contains(r'(?i)engi(nee?r|nner)|engg')\n",
    "tmp= tmp[mask]\n",
    "mask =  ~ tmp[\"Job_Role\"].str.contains(r'(?i)scientist|science')\n",
    "tmp= tmp[mask]\n",
    "mask =  ~ tmp[\"Job_Role\"].str.contains(r'(?i)ana?la?y|analytics')\n",
    "tmp= tmp[mask]\n",
    "mask =  ~ tmp[\"Job_Role\"].str.contains(r'(?i)big\\s*data.*dev')\n",
    "tmp= tmp[mask]\n",
    "mask =  ~ tmp[\"Job_Role\"].str.contains(r'(?i)data.*mana|governan')\n",
    "tmp= tmp[mask]\n",
    "mask =  ~ tmp[\"Job_Role\"].str.contains(r'(?i)Architect')\n",
    "tmp= tmp[mask]\n",
    "mask =  ~ tmp[\"Job_Role\"].str.contains(r'(?i)product')\n",
    "\n",
    "print(len(tmp[mask]))\n",
    "tmp[mask].head()"
   ]
  },
  {
   "cell_type": "markdown",
   "metadata": {
    "pycharm": {
     "name": "#%% md\n"
    }
   },
   "source": [
    "## We have 10 topics so lets explore each one seperatly to find the bes fitting category "
   ]
  },
  {
   "cell_type": "markdown",
   "metadata": {
    "pycharm": {
     "name": "#%% md\n"
    }
   },
   "source": [
    "### Topic 7 "
   ]
  },
  {
   "cell_type": "code",
   "execution_count": 276,
   "metadata": {
    "pycharm": {
     "name": "#%%\n"
    }
   },
   "outputs": [
    {
     "data": {
      "text/plain": [
       "spark                     658\n",
       "python                    482\n",
       "hadoop                    453\n",
       "big_data                  452\n",
       "hive                      368\n",
       "                         ... \n",
       "path_management             1\n",
       "maintaining_servers         1\n",
       "data_center_activities      1\n",
       "vlan_configuration          1\n",
       "mdm                         1\n",
       "Name: Skills/Description, Length: 1477, dtype: int64"
      ]
     },
     "execution_count": 276,
     "metadata": {},
     "output_type": "execute_result"
    }
   ],
   "source": [
    "tmp = df[df[\"lda_topic\"]==7]\n",
    "skills =tmp[\"Skills/Description\"].explode()\n",
    "skills.value_counts()#.to_string()"
   ]
  },
  {
   "cell_type": "markdown",
   "metadata": {
    "pycharm": {
     "name": "#%% md\n"
    }
   },
   "source": [
    " we have stuff like hadoop cloud and big data so lets remove these and see what remains"
   ]
  },
  {
   "cell_type": "code",
   "execution_count": 201,
   "metadata": {
    "pycharm": {
     "name": "#%%\n"
    }
   },
   "outputs": [
    {
     "name": "stderr",
     "output_type": "stream",
     "text": [
      "C:\\Users\\rfroe\\AppData\\Local\\Temp\\ipykernel_22080\\2333483432.py:1: UserWarning: This pattern is interpreted as a regular expression, and has match groups. To actually get the groups, use str.extract.\n",
      "  mask = skills.str.contains(r'(?i)cloud|hadoop|azure|spark|aws|hive|kafka|big(\\s*|_)data|sqoop|etl')\n"
     ]
    }
   ],
   "source": [
    "mask = skills.str.contains(r'(?i)cloud|hadoop|azure|spark|aws|hive|kafka|big(\\s*|_)data|sqoop|etl')\n",
    "cloud_total = skills[mask].value_counts().to_numpy().sum()\n",
    "cloud_diff = len(skills[mask].drop_duplicates())"
   ]
  },
  {
   "cell_type": "code",
   "execution_count": 202,
   "metadata": {
    "pycharm": {
     "name": "#%%\n"
    }
   },
   "outputs": [
    {
     "data": {
      "text/plain": [
       "10000"
      ]
     },
     "execution_count": 202,
     "metadata": {},
     "output_type": "execute_result"
    }
   ],
   "source": [
    "total = skills.value_counts().to_numpy().sum()\n",
    "total_unique = len(skills.drop_duplicates())\n",
    "total"
   ]
  },
  {
   "cell_type": "code",
   "execution_count": 203,
   "metadata": {
    "pycharm": {
     "name": "#%%\n"
    }
   },
   "outputs": [
    {
     "name": "stdout",
     "output_type": "stream",
     "text": [
      "0.3862 0.18348002708192282\n"
     ]
    }
   ],
   "source": [
    "print(cloud_total/total, cloud_diff/total_unique)"
   ]
  },
  {
   "cell_type": "code",
   "execution_count": 204,
   "metadata": {
    "pycharm": {
     "name": "#%%\n"
    }
   },
   "outputs": [
    {
     "data": {
      "text/plain": [
       "Data Engineer                            126\n",
       "Big Data Developer                        43\n",
       "Big Data Engineer                         42\n",
       "Data Scientist                            38\n",
       "Senior Data Engineer                      37\n",
       "                                        ... \n",
       "Talend Big Data Application Developer      1\n",
       "Big Data Developer | Pune                  1\n",
       "Data Engineer - Pyspark & Scala            1\n",
       "Lead-Data Engineer                         1\n",
       "Tech Lead - Azure                          1\n",
       "Name: Job_Role, Length: 857, dtype: int64"
      ]
     },
     "execution_count": 204,
     "metadata": {},
     "output_type": "execute_result"
    }
   ],
   "source": [
    "jobs = tmp[\"Job_Role\"]\n",
    "jobs.value_counts()"
   ]
  },
  {
   "cell_type": "code",
   "execution_count": 209,
   "metadata": {
    "pycharm": {
     "name": "#%%\n"
    }
   },
   "outputs": [
    {
     "name": "stderr",
     "output_type": "stream",
     "text": [
      "C:\\Users\\rfroe\\AppData\\Local\\Temp\\ipykernel_22080\\2642771783.py:1: UserWarning: This pattern is interpreted as a regular expression, and has match groups. To actually get the groups, use str.extract.\n",
      "  mask = jobs.str.contains(r'(?i)cloud|hadoop|azure|spark|aws|hive|kafka|big(\\s*|_)data')\n"
     ]
    }
   ],
   "source": [
    "mask = jobs.str.contains(r'(?i)cloud|hadoop|azure|spark|aws|hive|kafka|big(\\s*|_)data')\n",
    "cloud_total = jobs[mask].value_counts().to_numpy().sum()\n",
    "cloud_diff = len(jobs[mask].drop_duplicates())"
   ]
  },
  {
   "cell_type": "code",
   "execution_count": 210,
   "metadata": {
    "pycharm": {
     "name": "#%%\n"
    }
   },
   "outputs": [
    {
     "data": {
      "text/plain": [
       "1352"
      ]
     },
     "execution_count": 210,
     "metadata": {},
     "output_type": "execute_result"
    }
   ],
   "source": [
    "total = jobs.value_counts().to_numpy().sum()\n",
    "total_unique = len(jobs.drop_duplicates())\n",
    "total"
   ]
  },
  {
   "cell_type": "code",
   "execution_count": 211,
   "metadata": {
    "pycharm": {
     "name": "#%%\n"
    }
   },
   "outputs": [
    {
     "name": "stdout",
     "output_type": "stream",
     "text": [
      "0.4386094674556213 0.4865810968494749\n"
     ]
    }
   ],
   "source": [
    "print(cloud_total/total, cloud_diff/total_unique)"
   ]
  },
  {
   "cell_type": "code",
   "execution_count": 212,
   "metadata": {
    "pycharm": {
     "name": "#%%\n"
    }
   },
   "outputs": [
    {
     "name": "stdout",
     "output_type": "stream",
     "text": [
      "108 904 79 134 12 39 10\n"
     ]
    },
    {
     "name": "stderr",
     "output_type": "stream",
     "text": [
      "C:\\Users\\rfroe\\AppData\\Local\\Temp\\ipykernel_22080\\1947042633.py:3: UserWarning: This pattern is interpreted as a regular expression, and has match groups. To actually get the groups, use str.extract.\n",
      "  engineer =jobs[jobs.str.contains(r'(?i)engi(nee?r|nner)|engg')]\n"
     ]
    }
   ],
   "source": [
    "analyst =jobs[jobs.str.contains(r'(?i)ana?la?y|analytics')]\n",
    "scientist =jobs[jobs.str.contains(r'(?i)scientist|science')]\n",
    "engineer =jobs[jobs.str.contains(r'(?i)engi(nee?r|nner)|engg')]\n",
    "bd =jobs[jobs.str.contains(r'(?i)big\\s*data.*dev')]\n",
    "mgmt =jobs[jobs.str.contains(r'(?i)data.*mana|governan')]\n",
    "arc =jobs[jobs.str.contains(r'(?i)Architect')]\n",
    "prod =jobs[jobs.str.contains(r'(?i)product')]\n",
    "print(len(analyst), len(engineer), len(scientist),len(bd), len(mgmt), len(arc),len(prod))"
   ]
  },
  {
   "cell_type": "markdown",
   "metadata": {
    "pycharm": {
     "name": "#%% md\n"
    }
   },
   "source": [
    "### Call it Big Data for now"
   ]
  },
  {
   "cell_type": "markdown",
   "metadata": {
    "pycharm": {
     "name": "#%% md\n"
    }
   },
   "source": [
    "# Topic 5"
   ]
  },
  {
   "cell_type": "code",
   "execution_count": null,
   "outputs": [],
   "source": [
    "tmp = df[df[\"lda_topic\"]==6]\n",
    "skills =tmp[\"Skills/Description\"].explode()\n",
    "skills.value_counts()#.to_string()"
   ],
   "metadata": {
    "collapsed": false,
    "pycharm": {
     "name": "#%%\n"
    }
   }
  },
  {
   "cell_type": "code",
   "execution_count": null,
   "outputs": [],
   "source": [
    "mask = skills.str.contains(r'(?i)learning|intellig|nlp|natural|modeling|statistics|analy')\n",
    "cloud_total = skills[mask].value_counts().to_numpy().sum()\n",
    "cloud_diff = len(skills[mask].drop_duplicates())\n",
    "total = skills.value_counts().to_numpy().sum()\n",
    "total_unique = len(skills.drop_duplicates())\n",
    "print(cloud_total/total, cloud_diff/total_unique)"
   ],
   "metadata": {
    "collapsed": false,
    "pycharm": {
     "name": "#%%\n"
    }
   }
  },
  {
   "cell_type": "code",
   "execution_count": null,
   "outputs": [],
   "source": [
    "jobs = tmp[\"Job_Role\"]\n",
    "jobs.value_counts()"
   ],
   "metadata": {
    "collapsed": false,
    "pycharm": {
     "name": "#%%\n"
    }
   }
  },
  {
   "cell_type": "code",
   "execution_count": null,
   "outputs": [],
   "source": [
    "mask = jobs.str.contains(r'(?i)learning|intellig|nlp|natural|modeling|statistics|analy')\n",
    "cloud_total = jobs[mask].value_counts().to_numpy().sum()\n",
    "cloud_diff = len(jobs[mask].drop_duplicates())\n",
    "total = jobs.value_counts().to_numpy().sum()\n",
    "total_unique = len(jobs.drop_duplicates())\n",
    "print(cloud_total/total, cloud_diff/total_unique)"
   ],
   "metadata": {
    "collapsed": false,
    "pycharm": {
     "name": "#%%\n"
    }
   }
  },
  {
   "cell_type": "code",
   "execution_count": null,
   "outputs": [],
   "source": [
    "analyst =jobs[jobs.str.contains(r'(?i)ana?la?y|analytics')]\n",
    "scientist =jobs[jobs.str.contains(r'(?i)scientist|science')]\n",
    "engineer =jobs[jobs.str.contains(r'(?i)engi(nee?r|nner)|engg')]\n",
    "bd =jobs[jobs.str.contains(r'(?i)big\\s*data.*dev')]\n",
    "mgmt =jobs[jobs.str.contains(r'(?i)data.*mana|governan')]\n",
    "arc =jobs[jobs.str.contains(r'(?i)Architect')]\n",
    "prod =jobs[jobs.str.contains(r'(?i)product')]\n",
    "print(len(analyst), len(engineer), len(scientist),len(bd), len(mgmt), len(arc),len(prod))"
   ],
   "metadata": {
    "collapsed": false,
    "pycharm": {
     "name": "#%%\n"
    }
   }
  },
  {
   "cell_type": "markdown",
   "source": [
    "### Call it AI Scientist for now"
   ],
   "metadata": {
    "collapsed": false,
    "pycharm": {
     "name": "#%% md\n"
    }
   }
  },
  {
   "cell_type": "markdown",
   "source": [
    "# Topic 6"
   ],
   "metadata": {
    "collapsed": false,
    "pycharm": {
     "name": "#%% md\n"
    }
   }
  },
  {
   "cell_type": "code",
   "execution_count": null,
   "outputs": [],
   "source": [
    "tmp = df[df[\"lda_topic\"]==5]\n",
    "skills =tmp[\"Skills/Description\"].explode()\n",
    "skills.value_counts()#.to_string()"
   ],
   "metadata": {
    "collapsed": false,
    "pycharm": {
     "name": "#%%\n"
    }
   }
  },
  {
   "cell_type": "code",
   "execution_count": null,
   "outputs": [],
   "source": [
    "mask = skills.str.contains(r'(?i)risk|business|analy|mang|finan|data')\n",
    "cloud_total = skills[mask].value_counts().to_numpy().sum()\n",
    "cloud_diff = len(skills[mask].drop_duplicates())\n",
    "total = skills.value_counts().to_numpy().sum()\n",
    "total_unique = len(skills.drop_duplicates())\n",
    "print(cloud_total/total, cloud_diff/total_unique)"
   ],
   "metadata": {
    "collapsed": false,
    "pycharm": {
     "name": "#%%\n"
    }
   }
  },
  {
   "cell_type": "code",
   "execution_count": null,
   "outputs": [],
   "source": [
    "jobs = tmp[\"Job_Role\"]\n",
    "jobs.value_counts()#.to_string()"
   ],
   "metadata": {
    "collapsed": false,
    "pycharm": {
     "name": "#%%\n"
    }
   }
  },
  {
   "cell_type": "code",
   "execution_count": null,
   "outputs": [],
   "source": [
    "mask = jobs.str.contains(r'(?i)learning|intellig|nlp|natural|modeling|statistics|analy')\n",
    "cloud_total = jobs[mask].value_counts().to_numpy().sum()\n",
    "cloud_diff = len(jobs[mask].drop_duplicates())\n",
    "total = jobs.value_counts().to_numpy().sum()\n",
    "total_unique = len(jobs.drop_duplicates())\n",
    "print(cloud_total/total, cloud_diff/total_unique)"
   ],
   "metadata": {
    "collapsed": false,
    "pycharm": {
     "name": "#%%\n"
    }
   }
  },
  {
   "cell_type": "code",
   "execution_count": null,
   "outputs": [],
   "source": [
    "analyst =jobs[jobs.str.contains(r'(?i)ana?la?y|analytics')]\n",
    "scientist =jobs[jobs.str.contains(r'(?i)scientist|science')]\n",
    "engineer =jobs[jobs.str.contains(r'(?i)engi(nee?r|nner)|engg')]\n",
    "bd =jobs[jobs.str.contains(r'(?i)big\\s*data.*dev')]\n",
    "mgmt =jobs[jobs.str.contains(r'(?i)data.*mana|governan')]\n",
    "arc =jobs[jobs.str.contains(r'(?i)Architect')]\n",
    "prod =jobs[jobs.str.contains(r'(?i)product')]\n",
    "print(len(analyst), len(engineer), len(scientist),len(bd), len(mgmt), len(arc),len(prod))"
   ],
   "metadata": {
    "collapsed": false,
    "pycharm": {
     "name": "#%%\n"
    }
   }
  },
  {
   "cell_type": "markdown",
   "source": [
    "## Data Engineer governance product ?"
   ],
   "metadata": {
    "collapsed": false,
    "pycharm": {
     "name": "#%% md\n"
    }
   }
  },
  {
   "cell_type": "markdown",
   "source": [
    "# Topic 4"
   ],
   "metadata": {
    "collapsed": false,
    "pycharm": {
     "name": "#%% md\n"
    }
   }
  },
  {
   "cell_type": "code",
   "execution_count": null,
   "outputs": [],
   "source": [
    "tmp = df[df[\"lda_topic\"]==4]\n",
    "skills =tmp[\"Skills/Description\"].explode()\n",
    "skills.value_counts()#.to_string()"
   ],
   "metadata": {
    "collapsed": false,
    "pycharm": {
     "name": "#%%\n"
    }
   }
  },
  {
   "cell_type": "code",
   "execution_count": null,
   "outputs": [],
   "source": [
    "mask = skills.str.contains(r'(?i)analy|tableau|visuali|buisness|dashboard|power|intel|data')\n",
    "cloud_total = skills[mask].value_counts().to_numpy().sum()\n",
    "cloud_diff = len(skills[mask].drop_duplicates())\n",
    "total = skills.value_counts().to_numpy().sum()\n",
    "total_unique = len(skills.drop_duplicates())\n",
    "print(cloud_total/total, cloud_diff/total_unique)"
   ],
   "metadata": {
    "collapsed": false,
    "pycharm": {
     "name": "#%%\n"
    }
   }
  },
  {
   "cell_type": "code",
   "execution_count": null,
   "outputs": [],
   "source": [
    "jobs = tmp[\"Job_Role\"]\n",
    "jobs.value_counts()#.to_string()"
   ],
   "metadata": {
    "collapsed": false,
    "pycharm": {
     "name": "#%%\n"
    }
   }
  },
  {
   "cell_type": "code",
   "execution_count": null,
   "outputs": [],
   "source": [
    "mask = jobs.str.contains(r'(?i)analy|tableau|visuali|buisness|dashboard|power|intel')\n",
    "cloud_total = jobs[mask].value_counts().to_numpy().sum()\n",
    "cloud_diff = len(jobs[mask].drop_duplicates())\n",
    "total = jobs.value_counts().to_numpy().sum()\n",
    "total_unique = len(jobs.drop_duplicates())\n",
    "print(cloud_total/total, cloud_diff/total_unique)"
   ],
   "metadata": {
    "collapsed": false,
    "pycharm": {
     "name": "#%%\n"
    }
   }
  },
  {
   "cell_type": "code",
   "execution_count": null,
   "outputs": [],
   "source": [
    "analyst =jobs[jobs.str.contains(r'(?i)ana?la?y|analytics')]\n",
    "scientist =jobs[jobs.str.contains(r'(?i)scientist|science')]\n",
    "engineer =jobs[jobs.str.contains(r'(?i)engi(nee?r|nner)|engg')]\n",
    "bd =jobs[jobs.str.contains(r'(?i)big\\s*data.*dev')]\n",
    "mgmt =jobs[jobs.str.contains(r'(?i)data.*mana|governan')]\n",
    "arc =jobs[jobs.str.contains(r'(?i)Architect')]\n",
    "prod =jobs[jobs.str.contains(r'(?i)product')]\n",
    "print(len(analyst), len(engineer), len(scientist),len(bd), len(mgmt), len(arc),len(prod))"
   ],
   "metadata": {
    "collapsed": false,
    "pycharm": {
     "name": "#%%\n"
    }
   }
  },
  {
   "cell_type": "markdown",
   "source": [
    "## Buissnes Analyst"
   ],
   "metadata": {
    "collapsed": false,
    "pycharm": {
     "name": "#%% md\n"
    }
   }
  },
  {
   "cell_type": "markdown",
   "source": [
    "# Topic 3"
   ],
   "metadata": {
    "collapsed": false,
    "pycharm": {
     "name": "#%% md\n"
    }
   }
  },
  {
   "cell_type": "code",
   "execution_count": null,
   "outputs": [],
   "source": [
    "tmp = df[df[\"lda_topic\"]==3]\n",
    "skills =tmp[\"Skills/Description\"].explode()\n",
    "skills.value_counts()#.to_string()"
   ],
   "metadata": {
    "collapsed": false,
    "pycharm": {
     "name": "#%%\n"
    }
   }
  },
  {
   "cell_type": "code",
   "execution_count": null,
   "outputs": [],
   "source": [
    "mask = skills.str.contains(r'(?i)analy|communi|manga|buisness|research|excel|power|presen')\n",
    "cloud_total = skills[mask].value_counts().to_numpy().sum()\n",
    "cloud_diff = len(skills[mask].drop_duplicates())\n",
    "total = skills.value_counts().to_numpy().sum()\n",
    "total_unique = len(skills.drop_duplicates())\n",
    "print(cloud_total/total, cloud_diff/total_unique)"
   ],
   "metadata": {
    "collapsed": false,
    "pycharm": {
     "name": "#%%\n"
    }
   }
  },
  {
   "cell_type": "code",
   "execution_count": null,
   "outputs": [],
   "source": [
    "jobs = tmp[\"Job_Role\"]\n",
    "jobs.value_counts()#.to_string()"
   ],
   "metadata": {
    "collapsed": false,
    "pycharm": {
     "name": "#%%\n"
    }
   }
  },
  {
   "cell_type": "code",
   "execution_count": null,
   "outputs": [],
   "source": [
    "mask = jobs.str.contains(r'(?i)analy|communi|manga|buisness|research|excel|power|presen')\n",
    "cloud_total = jobs[mask].value_counts().to_numpy().sum()\n",
    "cloud_diff = len(jobs[mask].drop_duplicates())\n",
    "total = jobs.value_counts().to_numpy().sum()\n",
    "total_unique = len(jobs.drop_duplicates())\n",
    "print(cloud_total/total, cloud_diff/total_unique)"
   ],
   "metadata": {
    "collapsed": false,
    "pycharm": {
     "name": "#%%\n"
    }
   }
  },
  {
   "cell_type": "code",
   "execution_count": null,
   "outputs": [],
   "source": [
    "analyst =jobs[jobs.str.contains(r'(?i)ana?la?y|analytics')]\n",
    "scientist =jobs[jobs.str.contains(r'(?i)scientist|science')]\n",
    "engineer =jobs[jobs.str.contains(r'(?i)engi(nee?r|nner)|engg')]\n",
    "bd =jobs[jobs.str.contains(r'(?i)big\\s*data.*dev')]\n",
    "mgmt =jobs[jobs.str.contains(r'(?i)data.*mana|governan')]\n",
    "arc =jobs[jobs.str.contains(r'(?i)Architect')]\n",
    "prod =jobs[jobs.str.contains(r'(?i)product')]\n",
    "print(len(analyst), len(engineer), len(scientist),len(bd), len(mgmt), len(arc),len(prod))"
   ],
   "metadata": {
    "collapsed": false,
    "pycharm": {
     "name": "#%%\n"
    }
   }
  },
  {
   "cell_type": "markdown",
   "source": [
    "## Fin analyst "
   ],
   "metadata": {
    "collapsed": false,
    "pycharm": {
     "name": "#%% md\n"
    }
   }
  },
  {
   "cell_type": "markdown",
   "source": [
    "# Topic 2"
   ],
   "metadata": {
    "collapsed": false,
    "pycharm": {
     "name": "#%% md\n"
    }
   }
  },
  {
   "cell_type": "code",
   "execution_count": null,
   "outputs": [],
   "source": [
    "tmp = df[df[\"lda_topic\"]==2]\n",
    "skills =tmp[\"Skills/Description\"].explode()\n",
    "skills.value_counts()#.to_string()"
   ],
   "metadata": {
    "collapsed": false,
    "pycharm": {
     "name": "#%%\n"
    }
   }
  },
  {
   "cell_type": "code",
   "execution_count": null,
   "outputs": [],
   "source": [
    "mask = skills.str.contains(r'(?i)modeling|sql|backend|coding|db|analy|java|python')\n",
    "cloud_total = skills[mask].value_counts().to_numpy().sum()\n",
    "cloud_diff = len(skills[mask].drop_duplicates())\n",
    "total = skills.value_counts().to_numpy().sum()\n",
    "total_unique = len(skills.drop_duplicates())\n",
    "print(cloud_total/total, cloud_diff/total_unique)"
   ],
   "metadata": {
    "collapsed": false,
    "pycharm": {
     "name": "#%%\n"
    }
   }
  },
  {
   "cell_type": "code",
   "execution_count": null,
   "outputs": [],
   "source": [
    "jobs = tmp[\"Job_Role\"]\n",
    "jobs.value_counts()#.to_string()"
   ],
   "metadata": {
    "collapsed": false,
    "pycharm": {
     "name": "#%%\n"
    }
   }
  },
  {
   "cell_type": "code",
   "execution_count": null,
   "outputs": [],
   "source": [
    "mask = jobs.str.contains(r'(?i)modeling|sql|backend|coding|db|analy|java|python')\n",
    "cloud_total = jobs[mask].value_counts().to_numpy().sum()\n",
    "cloud_diff = len(jobs[mask].drop_duplicates())\n",
    "total = jobs.value_counts().to_numpy().sum()\n",
    "total_unique = len(jobs.drop_duplicates())\n",
    "print(cloud_total/total, cloud_diff/total_unique)"
   ],
   "metadata": {
    "collapsed": false,
    "pycharm": {
     "name": "#%%\n"
    }
   }
  },
  {
   "cell_type": "code",
   "execution_count": null,
   "outputs": [],
   "source": [
    "analyst =jobs[jobs.str.contains(r'(?i)ana?la?y|analytics')]\n",
    "scientist =jobs[jobs.str.contains(r'(?i)scientist|science')]\n",
    "engineer =jobs[jobs.str.contains(r'(?i)engi(nee?r|nner)|engg')]\n",
    "bd =jobs[jobs.str.contains(r'(?i)big\\s*data.*dev')]\n",
    "mgmt =jobs[jobs.str.contains(r'(?i)data.*mana|governan')]\n",
    "arc =jobs[jobs.str.contains(r'(?i)Architect')]\n",
    "prod =jobs[jobs.str.contains(r'(?i)product')]\n",
    "print(len(analyst), len(engineer), len(scientist),len(bd), len(mgmt), len(arc),len(prod))"
   ],
   "metadata": {
    "collapsed": false,
    "pycharm": {
     "name": "#%%\n"
    }
   }
  },
  {
   "cell_type": "markdown",
   "source": [
    "## Misc Engineer"
   ],
   "metadata": {
    "collapsed": false,
    "pycharm": {
     "name": "#%% md\n"
    }
   }
  },
  {
   "cell_type": "markdown",
   "source": [
    "# Topic 1"
   ],
   "metadata": {
    "collapsed": false,
    "pycharm": {
     "name": "#%% md\n"
    }
   }
  },
  {
   "cell_type": "code",
   "execution_count": null,
   "outputs": [],
   "source": [
    "tmp = df[df[\"lda_topic\"]==1]\n",
    "skills =tmp[\"Skills/Description\"].explode()\n",
    "skills.value_counts()#.to_string()"
   ],
   "metadata": {
    "collapsed": false,
    "pycharm": {
     "name": "#%%\n"
    }
   }
  },
  {
   "cell_type": "code",
   "execution_count": null,
   "outputs": [],
   "source": [
    "mask = skills.str.contains(r'(?i)cloud|oracle|analy|hadoop|modeling|sql|learning|data')\n",
    "cloud_total = skills[mask].value_counts().to_numpy().sum()\n",
    "cloud_diff = len(skills[mask].drop_duplicates())\n",
    "total = skills.value_counts().to_numpy().sum()\n",
    "total_unique = len(skills.drop_duplicates())\n",
    "print(cloud_total/total, cloud_diff/total_unique)"
   ],
   "metadata": {
    "collapsed": false,
    "pycharm": {
     "name": "#%%\n"
    }
   }
  },
  {
   "cell_type": "code",
   "execution_count": null,
   "outputs": [],
   "source": [
    "jobs = tmp[\"Job_Role\"]\n",
    "jobs.value_counts()#.to_string()"
   ],
   "metadata": {
    "collapsed": false,
    "pycharm": {
     "name": "#%%\n"
    }
   }
  },
  {
   "cell_type": "code",
   "execution_count": null,
   "outputs": [],
   "source": [
    "mask = jobs.str.contains(r'(?i)cloud|oracle|analy|hadoop|modeling|sql|learning|data')\n",
    "cloud_total = jobs[mask].value_counts().to_numpy().sum()\n",
    "cloud_diff = len(jobs[mask].drop_duplicates())\n",
    "total = jobs.value_counts().to_numpy().sum()\n",
    "total_unique = len(jobs.drop_duplicates())\n",
    "print(cloud_total/total, cloud_diff/total_unique)"
   ],
   "metadata": {
    "collapsed": false,
    "pycharm": {
     "name": "#%%\n"
    }
   }
  },
  {
   "cell_type": "code",
   "execution_count": null,
   "outputs": [],
   "source": [
    "analyst =jobs[jobs.str.contains(r'(?i)ana?la?y|analytics')]\n",
    "scientist =jobs[jobs.str.contains(r'(?i)scientist|science')]\n",
    "engineer =jobs[jobs.str.contains(r'(?i)engi(nee?r|nner)|engg')]\n",
    "bd =jobs[jobs.str.contains(r'(?i)big\\s*data.*dev')]\n",
    "mgmt =jobs[jobs.str.contains(r'(?i)data.*mana|governan')]\n",
    "arc =jobs[jobs.str.contains(r'(?i)Architect')]\n",
    "prod =jobs[jobs.str.contains(r'(?i)product')]\n",
    "print(len(analyst), len(engineer), len(scientist),len(bd), len(mgmt), len(arc),len(prod))"
   ],
   "metadata": {
    "collapsed": false,
    "pycharm": {
     "name": "#%%\n"
    }
   }
  },
  {
   "cell_type": "code",
   "execution_count": null,
   "outputs": [],
   "source": [
    "## Big Data Misc"
   ],
   "metadata": {
    "collapsed": false,
    "pycharm": {
     "name": "#%%\n"
    }
   }
  },
  {
   "cell_type": "code",
   "execution_count": null,
   "outputs": [],
   "source": [
    "# Topic 0"
   ],
   "metadata": {
    "collapsed": false,
    "pycharm": {
     "name": "#%%\n"
    }
   }
  },
  {
   "cell_type": "code",
   "execution_count": null,
   "outputs": [],
   "source": [
    "tmp = df[df[\"lda_topic\"]==0]\n",
    "skills =tmp[\"Skills/Description\"].explode()\n",
    "skills.value_counts()#.to_string()"
   ],
   "metadata": {
    "collapsed": false,
    "pycharm": {
     "name": "#%%\n"
    }
   }
  },
  {
   "cell_type": "code",
   "execution_count": null,
   "outputs": [],
   "source": [
    "mask = skills.str.contains(r'(?i)sql|modeling|azure|pandas|modeling|db|manage|data')\n",
    "cloud_total = skills[mask].value_counts().to_numpy().sum()\n",
    "cloud_diff = len(skills[mask].drop_duplicates())\n",
    "total = skills.value_counts().to_numpy().sum()\n",
    "total_unique = len(skills.drop_duplicates())\n",
    "print(cloud_total/total, cloud_diff/total_unique)"
   ],
   "metadata": {
    "collapsed": false,
    "pycharm": {
     "name": "#%%\n"
    }
   }
  },
  {
   "cell_type": "code",
   "execution_count": null,
   "outputs": [],
   "source": [
    "jobs = tmp[\"Job_Role\"]\n",
    "jobs.value_counts()#.to_string()"
   ],
   "metadata": {
    "collapsed": false,
    "pycharm": {
     "name": "#%%\n"
    }
   }
  },
  {
   "cell_type": "code",
   "execution_count": null,
   "outputs": [],
   "source": [
    "mask = jobs.str.contains(r'(?i)sql|modeling|azure|pandas|modeling|db|manage')\n",
    "cloud_total = jobs[mask].value_counts().to_numpy().sum()\n",
    "cloud_diff = len(jobs[mask].drop_duplicates())\n",
    "total = jobs.value_counts().to_numpy().sum()\n",
    "total_unique = len(jobs.drop_duplicates())\n",
    "print(cloud_total/total, cloud_diff/total_unique)"
   ],
   "metadata": {
    "collapsed": false,
    "pycharm": {
     "name": "#%%\n"
    }
   }
  },
  {
   "cell_type": "code",
   "execution_count": null,
   "outputs": [],
   "source": [
    "analyst =jobs[jobs.str.contains(r'(?i)ana?la?y|analytics')]\n",
    "scientist =jobs[jobs.str.contains(r'(?i)scientist|science')]\n",
    "engineer =jobs[jobs.str.contains(r'(?i)engi(nee?r|nner)|engg')]\n",
    "bd =jobs[jobs.str.contains(r'(?i)big\\s*data.*dev')]\n",
    "mgmt =jobs[jobs.str.contains(r'(?i)data.*mana|governan')]\n",
    "arc =jobs[jobs.str.contains(r'(?i)Architect')]\n",
    "prod =jobs[jobs.str.contains(r'(?i)product')]\n",
    "print(len(analyst), len(engineer), len(scientist),len(bd), len(mgmt), len(arc),len(prod))"
   ],
   "metadata": {
    "collapsed": false,
    "pycharm": {
     "name": "#%%\n"
    }
   }
  },
  {
   "cell_type": "markdown",
   "source": [
    "## Data Engineer"
   ],
   "metadata": {
    "collapsed": false,
    "pycharm": {
     "name": "#%% md\n"
    }
   }
  },
  {
   "cell_type": "code",
   "execution_count": null,
   "outputs": [],
   "source": [
    "def helper(x):\n",
    "    return len(x)"
   ],
   "metadata": {
    "collapsed": false,
    "pycharm": {
     "name": "#%%\n"
    }
   }
  },
  {
   "cell_type": "code",
   "execution_count": null,
   "outputs": [],
   "source": [
    "df[\"len\"] = df[\"Skills/Description\"].apply(lambda x:helper(x) )\n",
    "print(df[\"len\"].min(),df[\"len\"].max(),df[\"len\"].value_counts())"
   ],
   "metadata": {
    "collapsed": false,
    "pycharm": {
     "name": "#%%\n"
    }
   }
  },
  {
   "cell_type": "code",
   "execution_count": 12,
   "metadata": {
    "pycharm": {
     "name": "#%%\n"
    }
   },
   "outputs": [],
   "source": [
    "def helper(x):\n",
    "    return len(x)"
   ]
  },
  {
   "cell_type": "code",
   "execution_count": 13,
   "metadata": {
    "pycharm": {
     "name": "#%%\n"
    }
   },
   "outputs": [
    {
     "name": "stdout",
     "output_type": "stream",
     "text": [
      "1 9 8    10307\n",
      "7      402\n",
      "6      366\n",
      "5      274\n",
      "4      218\n",
      "3      180\n",
      "1      128\n",
      "2      124\n",
      "9        1\n",
      "Name: len, dtype: int64\n"
     ]
    }
   ],
   "source": [
    "df[\"len\"] = df[\"Skills/Description\"].apply(lambda x:helper(x) )\n",
    "print(df[\"len\"].min(),df[\"len\"].max(),df[\"len\"].value_counts())"
   ]
  },
  {
   "cell_type": "code",
   "execution_count": null,
   "metadata": {
    "pycharm": {
     "name": "#%%\n"
    }
   },
   "outputs": [],
   "source": []
  }
 ],
 "metadata": {
  "kernelspec": {
   "display_name": "Python 3 (ipykernel)",
   "language": "python",
   "name": "python3"
  },
  "language_info": {
   "codemirror_mode": {
    "name": "ipython",
    "version": 3
   },
   "file_extension": ".py",
   "mimetype": "text/x-python",
   "name": "python",
   "nbconvert_exporter": "python",
   "pygments_lexer": "ipython3",
   "version": "3.10.4"
  }
 },
 "nbformat": 4,
 "nbformat_minor": 1
}